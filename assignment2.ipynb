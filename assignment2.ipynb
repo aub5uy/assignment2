{
  "cells": [
    {
      "cell_type": "markdown",
      "id": "13ad028b-72b7-43ed-aa78-96fd4e518040",
      "metadata": {
        "id": "13ad028b-72b7-43ed-aa78-96fd4e518040"
      },
      "source": [
        "# Assignment: Data Wrangling and Exploratory Data Analysis\n",
        "## Do Q1 and Q2, and one other question.\n",
        "`! git clone https://www.github.com/DS3001/assignment2`"
      ]
    },
    {
      "cell_type": "code",
      "source": [
        "! git clone https://www.github.com/aub5uy/assignment2"
      ],
      "metadata": {
        "colab": {
          "base_uri": "https://localhost:8080/"
        },
        "id": "uFmRXfO9YS1f",
        "outputId": "4796b31b-2d43-4c11-845f-8dccfaf8b705"
      },
      "id": "uFmRXfO9YS1f",
      "execution_count": 41,
      "outputs": [
        {
          "output_type": "stream",
          "name": "stdout",
          "text": [
            "fatal: destination path 'assignment2' already exists and is not an empty directory.\n"
          ]
        }
      ]
    },
    {
      "cell_type": "markdown",
      "source": [
        "***Note: Completed Q1, Q2, and Q5***"
      ],
      "metadata": {
        "id": "UgLROsEdGtvk"
      },
      "id": "UgLROsEdGtvk"
    },
    {
      "cell_type": "markdown",
      "id": "5735a4d4-8be8-433a-a351-70eb8002e632",
      "metadata": {
        "id": "5735a4d4-8be8-433a-a351-70eb8002e632"
      },
      "source": [
        "**Q1.** Open the \"tidy_data.pdf\" document in the repo, which is a paper called Tidy Data by Hadley Wickham.\n",
        "\n",
        "  1. Read the abstract. What is this paper about? **This paper is about data tidying, a process part of data cleaning that makes datasets easier to manipulate, model, and visualize.**\n",
        "  2. Read the introduction. What is the \"tidy data standard\" intended to accomplish? **It provides a standard way to organize data values within a dataset (it makes initial data cleaning easier because you don’t need to start from scratch and reinvent the wheel every time).**\n",
        "  3. Read the intro to section 2. What does this sentence mean: \"Like families, tidy datasets are all alike but every messy dataset is messy in its own way.\" **The sentence means that out of the numerous ways to structure a dataset, there are common patterns that make datasets easier to use.** What does this sentence mean: \"For a given dataset, it’s usually easy to figure out what are observations and what are variables, but it is surprisingly difficult to precisely define variables and observations in general.\" **Obervations and variables can easily be identified due to context (there is a given template/structure by the dataset). However, there is no universal definition for what is a variable or observation, as different datasets/problems require different structures. For observations, should an entity be a single observation or split into multiple parts. For variables, there are a wide range of possible types and meanings the respective variable can take in different contexts. Therefore, context gives meaning to observations and variables.**\n",
        "  4. Read Section 2.2. How does Wickham define values, variables, and observations? **A value is either numbers (if quantitative) or strings (if qualitative) and belongs to a variable and observation. A variable contains all values that measure the same underlying attribute (like height, temperature, duration) across units. An observation contains all values measured on the same unit (like a person, or a day, or a race) across attributes**\n",
        "  5. How is \"Tidy Data\" defined in section 2.3? **It is a standard way of mapping the meaning of a dataset to its structure.**\n",
        "  6. Read the intro to Section 3 and Section 3.1. What are the 5 most common problems with messy datasets? **Column headers are values, not variable names. Multiple variables are stored in one column. Variables are stored in both rows and columns. Multiple types of observational units are stored in the same table. A single observational unit is stored in multiple tables.** Why are the data in Table 4 messy? **The column headers are values (instead of variables) that should be instead stored as values in a column called income.** What is \"melting\" a dataset? **It is the same as stacking it - turning columns into rows.**\n",
        "  7. Why, specifically, is table 11 messy but table 12 tidy and \"molten\"? **Table 11 is messy as it has variables stored in rows and columns - it has variables in individual columns (id, year, month), spread across columns (day, d1–d31) and across rows (tmin, tmax) (minimum and maximum temperature). Meanwhile, Table 12 is tidy as variables are stored as column headers and each column contains corresponding values (except for 12a that has the names of variables in the element column).**\n",
        "  8. Read Section 6. What is the \"chicken-and-egg\" problem with focusing on tidy data? **If tidy data is only as useful as the tools that work with it, then tidy tools will be inextricably linked to tidy data. This makes it easy to get stuck in a local maxima where independently changing data structures or data tools will not improve workflow.** What does Wickham hope happens in the future with further work on the subject of data wrangling? **He hopes that others will build on this framework of data tidying to develop even better data storage strategies and better tools.**"
      ]
    },
    {
      "cell_type": "markdown",
      "id": "da879ea7-8aac-48a3-b6c2-daea56d2e072",
      "metadata": {
        "id": "da879ea7-8aac-48a3-b6c2-daea56d2e072"
      },
      "source": [
        "**Q2.** This question provides some practice cleaning variables which have common problems.\n",
        "1. Numeric variable: For `./data/airbnb_hw.csv`, clean the `Price` variable as well as you can, and explain the choices you make. How many missing values do you end up with? (Hint: What happens to the formatting when a price goes over 999 dollars, say from 675 to 1,112?) **When the price goes over $999, the formatting style adds a comma for the thousands place; hence, I changed this in the code below. Also, I converted the Price variable to type numeric (from string). There are 0 missing values in the Price column.**\n",
        "2. Categorical variable: For the `./data/sharks.csv` data covered in the lecture, clean the \"Type\" variable as well as you can, and explain the choices you make. **First, I sorted the data by type in Excel and combined the 4 categories boat, boating, boatomg, and watercraft into watercraft. We can also combine the unconfirmed, unverified, and under investigation categories into an unclear category. Also, we can consider removing columns with type invalid, as these were not shark-related cases (552 of these invalid cases were reported); however, I decided to keep the data for reference. There were 5 empty cells which I kept as is, as it represented unidentified cases.**\n",
        "3. Dummy variable: For the pretrial data covered in the lecture, clean the `WhetherDefendantWasReleasedPretrial` variable as well as you can, and, in particular, replace missing values with `np.nan`. **Here, 0 represented not release, 1 represented released, and 9 represented an unclear situation. Therefore, I replaced the values of 9 with np.nan - there were no empty cell values for the `WhetherDefendantWasReleasedPretrial` variable.**\n",
        "4. Missing values, not at random: For the pretrial data covered in the lecture, clean the `ImposedSentenceAllChargeInContactEvent` variable as well as you can, and explain the choices you make. (Hint: Look at the `SentenceTypeAllChargesAtConvictionInContactEvent` variable.) **Comparing the `SentenceTypeAllChargesAtConvictionInContactEvent` and `ImposedSentenceAllChargeInContactEvent` variables, some questionable points arise.**\n",
        "  - When a person receives the sentence Probation/no incarceration and the sentence length is 0.\n",
        "  - When a person receives the sentence jail up to 12 months but is sentenced more than 12 months.\n",
        "\n",
        "  **In the two cases above, the data is questionable and could be invalid. Besides these 2 cases, I replaced all empty cell values in `ImposedSentenceAllChargeInContactEvent` with np.nan (this applied especially when `SentenceTypeAllChargesAtConvictionInContactEvent` was 4 (other category) or 9 (not applicable).**\n"
      ]
    },
    {
      "cell_type": "code",
      "source": [
        "#2-1 (airbnb)\n",
        "import numpy as np # Import the numpy package into your workspace\n",
        "import pandas as pd  # Import the pandas package into your workspace\n",
        "\n",
        "url='./assignment2/data/airbnb_hw.csv'\n",
        "df = pd.read_csv(url,low_memory=False)\n",
        "\n",
        "df['Price'] = pd.to_numeric(df['Price'].str.replace(',',''), errors='coerce')\n",
        "\n",
        "print(df.describe(),'\\n') #loc[1:5,('Price')],'\\n')\n",
        "print(df.loc[1:5,('Price')],'\\n')\n",
        "print('number of nan values', df['Price'].isna().sum())"
      ],
      "metadata": {
        "id": "Rr3F985f_Y_k",
        "outputId": "4e8c80bc-5bf5-4859-b19f-493155c64db2",
        "colab": {
          "base_uri": "https://localhost:8080/"
        }
      },
      "id": "Rr3F985f_Y_k",
      "execution_count": 42,
      "outputs": [
        {
          "output_type": "stream",
          "name": "stdout",
          "text": [
            "            Host Id  Review Scores Rating (bin)       Zipcode          Beds  \\\n",
            "count  3.047800e+04                22155.000000  30344.000000  30393.000000   \n",
            "mean   1.273171e+07                   90.738659  10584.854831      1.530089   \n",
            "std    1.190270e+07                    9.059519    921.299397      1.015359   \n",
            "min    5.000000e+02                   20.000000   1003.000000      0.000000   \n",
            "25%    2.701298e+06                   85.000000  10017.000000      1.000000   \n",
            "50%    8.551693e+06                   90.000000  10065.000000      1.000000   \n",
            "75%    2.120617e+07                  100.000000  11216.000000      2.000000   \n",
            "max    4.303307e+07                  100.000000  99135.000000     16.000000   \n",
            "\n",
            "       Number of Records  Number Of Reviews         Price  \\\n",
            "count            30478.0       30478.000000  30478.000000   \n",
            "mean                 1.0          12.018735    163.589737   \n",
            "std                  0.0          21.980703    197.785454   \n",
            "min                  1.0           0.000000     10.000000   \n",
            "25%                  1.0           0.000000     80.000000   \n",
            "50%                  1.0           3.000000    125.000000   \n",
            "75%                  1.0          13.000000    195.000000   \n",
            "max                  1.0         257.000000  10000.000000   \n",
            "\n",
            "       Review Scores Rating  \n",
            "count          22155.000000  \n",
            "mean              91.993230  \n",
            "std                8.850373  \n",
            "min               20.000000  \n",
            "25%               89.000000  \n",
            "50%               94.000000  \n",
            "75%              100.000000  \n",
            "max              100.000000   \n",
            "\n",
            "1     37\n",
            "2     28\n",
            "3    199\n",
            "4    549\n",
            "5    149\n",
            "Name: Price, dtype: int64 \n",
            "\n",
            "number of nan values 0\n"
          ]
        }
      ]
    },
    {
      "cell_type": "code",
      "source": [
        "#2-2 (sharks)\n",
        "import numpy as np # Import the numpy package into your workspace\n",
        "import pandas as pd  # Import the pandas package into your workspace\n",
        "\n",
        "url='./assignment2/data/sharks.csv'\n",
        "df = pd.read_csv(url,low_memory=False)\n",
        "\n",
        "df['Type'].replace(['Boating', 'Boatomg', 'Boat'], 'Watercraft', inplace=True)\n",
        "df['Type'].replace(['Unconfirmed', 'Unverified', 'Under investigation'], 'Unclear', inplace=True)\n",
        "\n",
        "#print(df.describe(),'\\n')\n",
        "print(df['Type'].unique(),'\\n')\n",
        "print(df.loc[150:155,('Type')],'\\n')\n",
        "print('number of nan values', df['Type'].isna().sum())"
      ],
      "metadata": {
        "id": "JInIjd4IkRsK",
        "outputId": "296d0c57-325e-4bd4-fc75-a8f9f3645f53",
        "colab": {
          "base_uri": "https://localhost:8080/"
        }
      },
      "id": "JInIjd4IkRsK",
      "execution_count": 43,
      "outputs": [
        {
          "output_type": "stream",
          "name": "stdout",
          "text": [
            "['Unprovoked' 'Provoked' 'Questionable' 'Watercraft' 'Unclear' 'Invalid'\n",
            " 'Sea Disaster' nan] \n",
            "\n",
            "150    Watercraft\n",
            "151      Provoked\n",
            "152    Unprovoked\n",
            "153       Invalid\n",
            "154    Unprovoked\n",
            "155      Provoked\n",
            "Name: Type, dtype: object \n",
            "\n",
            "number of nan values 5\n"
          ]
        }
      ]
    },
    {
      "cell_type": "code",
      "source": [
        "#2-3 (pretrial)\n",
        "import numpy as np # Import the numpy package into your workspace\n",
        "import pandas as pd  # Import the pandas package into your workspace\n",
        "\n",
        "url='./assignment2/data/VirginiaPretrialData2017.csv'\n",
        "df = pd.read_csv(url,low_memory=False)\n",
        "\n",
        "print(df['WhetherDefendantWasReleasedPretrial'].unique())\n",
        "df['WhetherDefendantWasReleasedPretrial'].replace(9, np.nan, inplace=True)\n",
        "print(df['WhetherDefendantWasReleasedPretrial'].unique())\n",
        "\n",
        "#print('number of nan values', df['ImposedSentenceAllChargeInContactEvent'].isna().sum())\n",
        "#df['ImposedSentenceAllChargeInContactEvent'].replace('', np.nan, inplace=True)"
      ],
      "metadata": {
        "id": "5cpfClb7qnR4",
        "outputId": "986b00ff-23dc-4b8c-80c8-b187fcb2dd93",
        "colab": {
          "base_uri": "https://localhost:8080/"
        }
      },
      "id": "5cpfClb7qnR4",
      "execution_count": 44,
      "outputs": [
        {
          "output_type": "stream",
          "name": "stdout",
          "text": [
            "[9 0 1]\n",
            "[nan  0.  1.]\n"
          ]
        }
      ]
    },
    {
      "cell_type": "code",
      "source": [
        "#2-4 (pretrial)\n",
        "import numpy as np # Import the numpy package into your workspace\n",
        "import pandas as pd  # Import the pandas package into your workspace\n",
        "\n",
        "url='./assignment2/data/VirginiaPretrialData2017.csv'\n",
        "df = pd.read_csv(url,low_memory=False)\n",
        "\n",
        "print(df['SentenceTypeAllChargesAtConvictionInContactEvent'].unique())\n",
        "\n",
        "#Used ChatGPT for this\n",
        "condition = df['SentenceTypeAllChargesAtConvictionInContactEvent'].isin([4, 9])\n",
        "df.loc[condition, 'ImposedSentenceAllChargeInContactEvent'] = np.nan\n",
        "\n",
        "print('number of nan values', df['ImposedSentenceAllChargeInContactEvent'].isna().sum())\n"
      ],
      "metadata": {
        "id": "ax5-L4dxv0m_",
        "outputId": "a382f7aa-7f4c-4352-da9e-c135f6b05c2f",
        "colab": {
          "base_uri": "https://localhost:8080/"
        }
      },
      "id": "ax5-L4dxv0m_",
      "execution_count": 45,
      "outputs": [
        {
          "output_type": "stream",
          "name": "stdout",
          "text": [
            "[9 0 1 4 2]\n",
            "number of nan values 9053\n"
          ]
        }
      ]
    },
    {
      "cell_type": "markdown",
      "id": "c11bcd96-2834-41a4-80fe-d354b4277fd9",
      "metadata": {
        "id": "c11bcd96-2834-41a4-80fe-d354b4277fd9"
      },
      "source": [
        "**Q3.** This question provides some practice doing exploratory data analysis and visualization.\n",
        "\n",
        "The \"relevant\" variables for this question are:\n",
        "  - `level` - Level of institution (4-year, 2-year)\n",
        "  - `aid_value` - The average amount of student aid going to undergraduate recipients\n",
        "  - `control` - Public, Private not-for-profit, Private for-profit\n",
        "  - `grad_100_value` - percentage of first-time, full-time, degree-seeking undergraduates who complete a degree or certificate program within 100 percent of expected time (bachelor's-seeking group at 4-year institutions)\n",
        "\n",
        "1. Load the `./data/college_completion.csv` data with Pandas.\n",
        "2. What are are the dimensions of the data? How many observations are there? What are the variables included? Use `.head()` to examine the first few rows of data.\n",
        "3. Cross tabulate `control` and `level`. Describe the patterns you see.\n",
        "4. For `grad_100_value`, create a histogram, kernel density plot, boxplot, and statistical description.\n",
        "5. For `grad_100_value`, create a grouped kernel density plot by `control` and by `level`. Describe what you see. Use `groupby` and `.describe` to make grouped calculations of statistical descriptions of `grad_100_value` by `level` and `control`. Which institutions appear to have the best graduation rates?\n",
        "6. Create a new variable, `df['levelXcontrol']=df['level']+', '+df['control']` that interacts level and control. Make a grouped kernel density plot. Which institutions appear to have the best graduation rates?\n",
        "7. Make a kernel density plot of `aid_value`. Notice that your graph is \"bi-modal\", having two little peaks that represent locally most common values. Now group your graph by `level` and `control`. What explains the bi-modal nature of the graph? Use `groupby` and `.describe` to make grouped calculations of statistical descriptions of `aid_value` by `level` and `control`.\n",
        "8. Make a scatterplot of `grad_100_value` by `aid_value`. Describe what you see. Now make the same plot, grouping by `level` and then `control`. Describe what you see. For which kinds of institutions does aid seem to increase graduation rates?"
      ]
    },
    {
      "cell_type": "markdown",
      "id": "98d34a3b-c21d-4dc9-a8d2-fb7686804ceb",
      "metadata": {
        "id": "98d34a3b-c21d-4dc9-a8d2-fb7686804ceb"
      },
      "source": [
        "**Q4.** This question uses the Airbnb data to practice making visualizations.\n",
        "\n",
        "  1. Load the `./data/airbnb_hw.csv` data with Pandas. You should have cleaned the `Price` variable in question 2, and you'll need it later for this question.\n",
        "  2. What are are the dimensions of the data? How many observations are there? What are the variables included? Use `.head()` to examine the first few rows of data.\n",
        "  3. Cross tabulate `Room Type` and `Property Type`. What patterns do you see in what kinds of rentals are available? For which kinds of properties are private rooms more common than renting the entire property?\n",
        "  4. For `Price`, make a histogram, kernel density, box plot, and a statistical description of the variable. Are the data badly scaled? Are there many outliers? Use `log` to transform price into a new variable, `price_log`, and take these steps again.\n",
        "  5. Make a scatterplot of `price_log` and `Beds`. Describe what you see. Use `.groupby()` to compute a desciption of `Price` conditional on/grouped by the number of beds. Describe any patterns you see in the average price and standard deviation in prices.\n",
        "  6. Make a scatterplot of `price_log` and `Beds`, but color the graph by `Room Type` and `Property Type`. What patterns do you see? Compute a description of `Price` conditional on `Room Type` and `Property Type`. Which Room Type and Property Type have the highest prices on average? Which have the highest standard deviation? Does the mean or median appear to be a more reliable estimate of central tendency, and explain why?\n",
        "  7. We've looked a bit at this `price_log` and `Beds` scatterplot. Use seaborn to make a `jointplot` with `kind=hex`. Where are the data actually distributed? How does it affect the way you think about the plots in 5 and 6?"
      ]
    },
    {
      "cell_type": "markdown",
      "id": "649494cd-cfd6-4f80-992a-9994fc19e1d5",
      "metadata": {
        "id": "649494cd-cfd6-4f80-992a-9994fc19e1d5"
      },
      "source": [
        "**Q5.** Many important datasets contain a race variable, typically limited to a handful of values often including Black, White, Asian, Latino, and Indigenous. This question looks at data gathering efforts on this variable by the U.S. Federal government.\n",
        "\n",
        "1. How did the most recent US Census gather data on race?\n",
        "2. Why do we gather these data? What role do these kinds of data play in politics and society? Why does data quality matter?\n",
        "3. Please provide a constructive criticism of how the Census was conducted: What was done well? What do you think was missing? How should future large scale surveys be adjusted to best reflect the diversity of the population? Could some of the Census' good practices be adopted more widely to gather richer and more useful data?\n",
        "4. How did the Census gather data on sex and gender? Please provide a similar constructive criticism of their practices.\n",
        "5. When it comes to cleaning data, what concerns do you have about protected characteristics like sex, gender, sexual identity, or race? What challenges can you imagine arising when there are missing values? What good or bad practices might people adopt, and why?\n",
        "6. Suppose someone invented an algorithm to impute values for protected characteristics like race, gender, sex, or sexuality. What kinds of concerns would you have?"
      ]
    },
    {
      "cell_type": "markdown",
      "source": [
        "**Responses for Q5:**\n",
        "1. The U.S. Census collects data on race through individual self-reporting. In the 2020 Census, respondents were asked to select one or more races from a list of predefined categories, including options such as Black, White, Asian, Latino, Indigenous, and others. Respondents could select all categories that applied to them, allowing for multiple race selections.\n",
        "\n",
        "2. Gathering data based on race helps with Demographic Analysis (data helps understand the racial composition of the population, a vital element to planning public services, resource allocation, and policy development), Civil Rights Enforcement (data is used to monitor and enforce civil rights laws, including the Voting Rights Act and the Fair Housing Act), Social and Economic Research (data helps analyze disparities in areas such as education, employment, housing, and healthcare), and Political Representation (data is used to draw congressional districts, ensuring fair representation).\n",
        "Data quality matters because inaccurate/incomplete data may lead to misallocation of resources, misrepresentation in political processes, and ineffective policy decisions.\n",
        "\n",
        "3. The Census did well by allowing for multiple race selections, recognizing the complexity of individuals' racial identities. However, the predefined race categories may not cover all possible racial identities, potentially leading to underrepresentation or misclassification of some groups. Future surveys should have more comprehensive options - these options should be updated each census - and keep the other section for individuals to write in their own responses. Some of the good facets of the Census (including self-reporting, multiple response categories, accessiblity, and data quality checks) could be very useful in data collection for other areas to get more diverse and representative data from the respective population.\n",
        "\n",
        "4. The U.S. Census collects has previously collected data on sex as a binary male/female. This is important to understand the gap in gender diversity. However, this section should change in the future to including a question about gender identity to better capture gender diversity.\n",
        "\n",
        "5. Some concerns about cleaning data with protected characteristics are that the people/machines that clean the data have access to a person's protected characteristics like sex, gender, sexual identity, or race; these can potentially be sensitive topics for the individual and cause them harm if the data was leaked. If there are missing values, it can be hard to put a placeholder value, as this may not accuratly represent the individual. Hence, some good practices are to protect the privacy and confidentiality of respondents while trying to keep their data as original/true as possible.\n",
        "\n",
        "6. One concern I would have regarding an algorithm that imputes values for protected characteristics is that if the algorithm is biased, it could severely impact the accuracy of the imputed values, especially for underrepresented groups (as there is not enough training data to output data representative of this smaller group). In response to this, I would want the algorithm's decision-making process to be very transparent so that we know exactly how it is imputing values. Another key concern is regarding privacy of the personal data, as this data would be fed as training data for the algorithm - consent would be required from the individuals."
      ],
      "metadata": {
        "id": "ErZkI0ci5mqZ"
      },
      "id": "ErZkI0ci5mqZ"
    },
    {
      "cell_type": "markdown",
      "id": "2f38f2fd-6381-481d-bba9-017f3d363426",
      "metadata": {
        "id": "2f38f2fd-6381-481d-bba9-017f3d363426"
      },
      "source": [
        "**Q6.** Open the `./data/CBO_data.pdf` file. This contains tax data for 2019, explaining where the money comes from that the U.S. Federal Government Spends in terms of taxation on individuals/families and payroll taxes (the amount that your employer pays in taxes on your wages).\n",
        "\n",
        "For some context, the Federal government ultimately spent about $4.4 trillion in 2019, which was 21% of GDP (the total monetary value of all goods and services produced within the United States). Individual Income Taxes is the amount individuals pay on their wages to the Federal government, Corporate Income Taxes is the taxes individuals pay on capital gains from investment when they sell stock or other financial instruments, Payroll Taxes is the tax your employer pays on your wages, Excises and Customs Duties are taxes on goods or services like sin taxes on cigarettes or alcohol, and Estate and Gift Taxes are taxes paid on transfers of wealth to other people.\n",
        "\n",
        "1. Get the Millions of Families and Billions of Dollars data into a .csv file and load it with Pandas.\n",
        "2. Create a bar plot of individual income taxes by income decile. Explain what the graph shows. Why are some values negative?\n",
        "3. Create a bar plot of Total Federal Taxes by income decile. Which deciles are paying net positive amounts, and which are paying net negative amounts?\n",
        "4. Create a stacked bar plot for which Total Federal Taxes is grouped by Individual Income Taxes, Payroll Taxes, Excises and Customs Duties, and Estate and Gift Taxes. How does the share of taxes paid vary across the adjusted income deciles? (Hint: Are these the kind of data you want to melt?)\n",
        "5. Below the Total line for Millions of Families and Billions of Dollars, there are data for the richest of the richest families. Plot this alongside the bars for the deciles above the Total line. Describe your results.\n",
        "6. Get the Percent Distribution data into a .csv file and load it with Pandas. Create a bar graph of Total Federal Taxes by income decile.\n",
        "7. A tax system is progressive if higher-income and wealthier individuals pay more than lower-income and less wealthy individuals, and it is regressive if the opposite is true. Is the U.S. tax system progressive in terms of amount paid? In terms of the percentage of the overall total?\n",
        "8. Do the rich pay enough in taxes? Defend your answer."
      ]
    }
  ],
  "metadata": {
    "kernelspec": {
      "display_name": "Python 3 (ipykernel)",
      "language": "python",
      "name": "python3"
    },
    "language_info": {
      "codemirror_mode": {
        "name": "ipython",
        "version": 3
      },
      "file_extension": ".py",
      "mimetype": "text/x-python",
      "name": "python",
      "nbconvert_exporter": "python",
      "pygments_lexer": "ipython3",
      "version": "3.10.4"
    },
    "colab": {
      "provenance": []
    }
  },
  "nbformat": 4,
  "nbformat_minor": 5
}